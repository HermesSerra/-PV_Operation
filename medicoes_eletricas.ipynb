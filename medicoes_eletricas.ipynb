{
 "cells": [
  {
   "cell_type": "code",
   "execution_count": 5,
   "metadata": {},
   "outputs": [],
   "source": [
    "import pandas as pd\n",
    "from datetime import datetime"
   ]
  },
  {
   "cell_type": "code",
   "execution_count": 6,
   "metadata": {},
   "outputs": [
    {
     "data": {
      "text/html": [
       "<div>\n",
       "<style scoped>\n",
       "    .dataframe tbody tr th:only-of-type {\n",
       "        vertical-align: middle;\n",
       "    }\n",
       "\n",
       "    .dataframe tbody tr th {\n",
       "        vertical-align: top;\n",
       "    }\n",
       "\n",
       "    .dataframe thead th {\n",
       "        text-align: right;\n",
       "    }\n",
       "</style>\n",
       "<table border=\"1\" class=\"dataframe\">\n",
       "  <thead>\n",
       "    <tr style=\"text-align: right;\">\n",
       "      <th></th>\n",
       "      <th>Data</th>\n",
       "      <th>Potencia_W</th>\n",
       "      <th>Tensao_V</th>\n",
       "      <th>Corrente_A</th>\n",
       "      <th>Frequencia_Hz</th>\n",
       "    </tr>\n",
       "  </thead>\n",
       "  <tbody>\n",
       "    <tr>\n",
       "      <th>0</th>\n",
       "      <td>2024-08-01 08:00</td>\n",
       "      <td>1500</td>\n",
       "      <td>220</td>\n",
       "      <td>6.82</td>\n",
       "      <td>60</td>\n",
       "    </tr>\n",
       "    <tr>\n",
       "      <th>1</th>\n",
       "      <td>2024-08-01 08:05</td>\n",
       "      <td>1520</td>\n",
       "      <td>221</td>\n",
       "      <td>6.87</td>\n",
       "      <td>60</td>\n",
       "    </tr>\n",
       "    <tr>\n",
       "      <th>2</th>\n",
       "      <td>2024-08-01 08:10</td>\n",
       "      <td>1480</td>\n",
       "      <td>220</td>\n",
       "      <td>6.73</td>\n",
       "      <td>60</td>\n",
       "    </tr>\n",
       "    <tr>\n",
       "      <th>3</th>\n",
       "      <td>2024-08-01 08:15</td>\n",
       "      <td>1495</td>\n",
       "      <td>222</td>\n",
       "      <td>6.74</td>\n",
       "      <td>60</td>\n",
       "    </tr>\n",
       "  </tbody>\n",
       "</table>\n",
       "</div>"
      ],
      "text/plain": [
       "               Data  Potencia_W  Tensao_V  Corrente_A  Frequencia_Hz\n",
       "0  2024-08-01 08:00        1500       220        6.82             60\n",
       "1  2024-08-01 08:05        1520       221        6.87             60\n",
       "2  2024-08-01 08:10        1480       220        6.73             60\n",
       "3  2024-08-01 08:15        1495       222        6.74             60"
      ]
     },
     "execution_count": 6,
     "metadata": {},
     "output_type": "execute_result"
    }
   ],
   "source": [
    "df = pd.read_csv(r\"C:\\Users\\herme\\OneDrive\\Área de Trabalho\\PV_Operation\\medicoes_eletricas.csv\",delimiter=',')\n",
    "df.head()"
   ]
  },
  {
   "cell_type": "code",
   "execution_count": 7,
   "metadata": {},
   "outputs": [
    {
     "name": "stdout",
     "output_type": "stream",
     "text": [
      "A média da potência foi 1498.75 durante o perído registrado\n"
     ]
    }
   ],
   "source": [
    "media_potencia = df['Potencia_W'].mean()\n",
    "print(f\"A média da potência foi {media_potencia} durante o perído registrado\")"
   ]
  },
  {
   "cell_type": "code",
   "execution_count": 8,
   "metadata": {},
   "outputs": [
    {
     "name": "stdout",
     "output_type": "stream",
     "text": [
      "O valor máximo de tensão registrado foi 222 V, ocorrido em 2024-08-01 08:15.\n"
     ]
    }
   ],
   "source": [
    "valor_maximo = df['Tensao_V'].max()\n",
    "data_maxima = df[df['Tensao_V'] == valor_maximo]['Data'].values[0]\n",
    "print(f\"O valor máximo de tensão registrado foi {valor_maximo} V, ocorrido em {data_maxima}.\")"
   ]
  },
  {
   "cell_type": "code",
   "execution_count": 9,
   "metadata": {},
   "outputs": [
    {
     "name": "stdout",
     "output_type": "stream",
     "text": [
      "Todos os valores estão dentro da faixa normal de operação.\n"
     ]
    }
   ],
   "source": [
    "frequencia_fora_faixa = df[(df['Frequencia_Hz'] < 59.8) | (df['Frequencia_Hz'] > 60.2)]\n",
    "if frequencia_fora_faixa.empty:\n",
    "    print(\"Todos os valores estão dentro da faixa normal de operação.\")\n",
    "else:\n",
    "    display(frequencia_fora_faixa)"
   ]
  },
  {
   "cell_type": "code",
   "execution_count": 13,
   "metadata": {},
   "outputs": [],
   "source": [
    "import pandas as pd\n",
    "from datetime import datetime, timedelta\n",
    "\n",
    "def calcular_fator_potencia((r\"C:\\Users\\herme\\OneDrive\\Área de Trabalho\\PV_Operation\\medicoes_eletricas.csv\",delimiter=','), intervalo_mins):\n",
    "    \"\"\"\n",
    "    Calcula o fator de potência médio durante um intervalo de tempo em minutos a partir de um arquivo CSV.\n",
    "\n",
    "    :param arquivo_csv: Caminho para o arquivo CSV com as medições\n",
    "    :param intervalo_mins: Intervalo de tempo em minutos\n",
    "    :return: Fator de potência médio calculado\n",
    "    \"\"\"\n",
    "    # Ler o arquivo CSV\n",
    "    df = pd.read_csv(arquivo_csv)\n",
    "    calcular_fator_potencia \n",
    "    df.head()\n",
    "    \n",
    "   "
   ]
  }
 ],
 "metadata": {
  "kernelspec": {
   "display_name": "Python 3",
   "language": "python",
   "name": "python3"
  },
  "language_info": {
   "codemirror_mode": {
    "name": "ipython",
    "version": 3
   },
   "file_extension": ".py",
   "mimetype": "text/x-python",
   "name": "python",
   "nbconvert_exporter": "python",
   "pygments_lexer": "ipython3",
   "version": "3.11.4"
  }
 },
 "nbformat": 4,
 "nbformat_minor": 2
}
